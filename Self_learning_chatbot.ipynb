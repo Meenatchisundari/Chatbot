{
  "nbformat": 4,
  "nbformat_minor": 0,
  "metadata": {
    "colab": {
      "provenance": [],
      "authorship_tag": "ABX9TyO4Dv6sdpaCg3pNcWnS6RHt",
      "include_colab_link": true
    },
    "kernelspec": {
      "name": "python3",
      "display_name": "Python 3"
    },
    "language_info": {
      "name": "python"
    }
  },
  "cells": [
    {
      "cell_type": "markdown",
      "metadata": {
        "id": "view-in-github",
        "colab_type": "text"
      },
      "source": [
        "<a href=\"https://colab.research.google.com/github/Meenatchisundari/Chatbot/blob/main/Self_learning_chatbot.ipynb\" target=\"_parent\"><img src=\"https://colab.research.google.com/assets/colab-badge.svg\" alt=\"Open In Colab\"/></a>"
      ]
    },
    {
      "cell_type": "code",
      "execution_count": 27,
      "metadata": {
        "id": "PyYZtu-gpLIC"
      },
      "outputs": [],
      "source": [
        "#import library\n",
        "import numpy as np;\n",
        "import nltk;\n",
        "import string;\n",
        "import random;"
      ]
    },
    {
      "cell_type": "code",
      "source": [
        "#import and read corpus\n",
        "f =open('chatbot.txt','r',errors = 'ignore')\n",
        "raw_doc=f.read()\n",
        "raw_doc=raw_doc.lower()\n",
        "nltk.download('punkt')\n",
        "nltk.download('wordnet')\n",
        "sent_tokens = nltk.sent_tokenize(raw_doc)\n",
        "word_tokens = nltk.word_tokenize(raw_doc)\n"
      ],
      "metadata": {
        "colab": {
          "base_uri": "https://localhost:8080/"
        },
        "id": "fld-qumvpeWm",
        "outputId": "75f0406e-dd67-40d9-a52f-7e3aedd3553e"
      },
      "execution_count": 28,
      "outputs": [
        {
          "output_type": "stream",
          "name": "stderr",
          "text": [
            "[nltk_data] Downloading package punkt to /root/nltk_data...\n",
            "[nltk_data]   Package punkt is already up-to-date!\n",
            "[nltk_data] Downloading package wordnet to /root/nltk_data...\n",
            "[nltk_data]   Package wordnet is already up-to-date!\n"
          ]
        }
      ]
    },
    {
      "cell_type": "code",
      "source": [
        "sent_tokens[:2]"
      ],
      "metadata": {
        "colab": {
          "base_uri": "https://localhost:8080/"
        },
        "id": "2ahrQBVTsyDl",
        "outputId": "34267c7a-3adf-4207-e63f-260231a53c4f"
      },
      "execution_count": 29,
      "outputs": [
        {
          "output_type": "execute_result",
          "data": {
            "text/plain": [
              "['data science is an interdisciplinary academic field [1] that uses statistics, scientific computing, scientific methods, processes, algorithms and systems to extract or extrapolate knowledge and insights from noisy, structured, and unstructured data.',\n",
              " '[2]\\n\\ndata science also integrates domain knowledge from the underlying application domain (e.g., natural sciences, information technology, and medicine).']"
            ]
          },
          "metadata": {},
          "execution_count": 29
        }
      ]
    },
    {
      "cell_type": "code",
      "source": [
        "word_tokens[:2]"
      ],
      "metadata": {
        "colab": {
          "base_uri": "https://localhost:8080/"
        },
        "id": "zitUzt6zs5H1",
        "outputId": "3cbde540-5370-4848-bff6-efb20e45eec0"
      },
      "execution_count": 30,
      "outputs": [
        {
          "output_type": "execute_result",
          "data": {
            "text/plain": [
              "['data', 'science']"
            ]
          },
          "metadata": {},
          "execution_count": 30
        }
      ]
    },
    {
      "cell_type": "code",
      "source": [
        "#Text preprocessing\n",
        "\n",
        "lemmer = nltk.stem.WordNetLemmatizer()\n",
        "def LemTokens(tokens):\n",
        "    return [lemmer.lemmatize(token) for token in tokens]\n",
        "remove_punct_dict = dict((ord(punct), None) for punct in string.punctuation)\n",
        "def LemNormalize(text):\n",
        "    return LemTokens(nltk.word_tokenize(text.lower().translate(remove_punct_dict)))"
      ],
      "metadata": {
        "id": "ebM7TEX-tCVZ"
      },
      "execution_count": 31,
      "outputs": []
    },
    {
      "cell_type": "code",
      "source": [],
      "metadata": {
        "id": "SaSRiv9U2scV"
      },
      "execution_count": null,
      "outputs": []
    },
    {
      "cell_type": "code",
      "source": [
        "#Greet function:\n",
        "\n",
        "GREET_INPUTS = (\"hello\", \"hi\", \"greetings\",\"sup\",\"what's up\",\"hey\")\n",
        "GREET_RESPONSES = [\"hi\",\"hey\",\"*nods\",\"hi there\", \"hello\",\"I am glad!\"]\n",
        "def greet(sentence):\n",
        "  for word in sentence.split():\n",
        "    if word.lower() in GREET_INPUTS:\n",
        "      return random.choice(GREET_RESPONSES)"
      ],
      "metadata": {
        "id": "p25xaTE7uEYI"
      },
      "execution_count": 32,
      "outputs": []
    },
    {
      "cell_type": "code",
      "source": [
        "#RESPONSE GENERATION:\n",
        "\n",
        "from sklearn.feature_extraction.text import TfidfVectorizer\n",
        "from sklearn.metrics.pairwise import cosine_similarity"
      ],
      "metadata": {
        "id": "PwKEIUIJvBnZ"
      },
      "execution_count": 33,
      "outputs": []
    },
    {
      "cell_type": "code",
      "source": [
        "def response(user_response):\n",
        "  robo1_response=''\n",
        "  TfidVec = TfidfVectorizer(tokenizer=LemNormalize, stop_words='english')\n",
        "  tfid = TfidVec.fit_transform(sent_tokens)\n",
        "  vals = cosine_similarity(tfid[-1],tfid)\n",
        "  idx = vals.argsort()[0][-2]\n",
        "  flat=vals.flatten()\n",
        "  flat.sort()\n",
        "  req_tfid = flat[-2]\n",
        "  if(req_tfid == 0):\n",
        "    robo1_response= robo1_response+\"I am sorry! I don't understand you\"\n",
        "    return robo1_response\n",
        "  else:\n",
        "    robo1_response = robo1_response+sent_tokens[idx]\n",
        "    return robo1_response"
      ],
      "metadata": {
        "id": "nj4j3gXWw0Ww"
      },
      "execution_count": 34,
      "outputs": []
    },
    {
      "cell_type": "code",
      "source": [
        "#Defining conversation start/end protocols\n",
        "\n",
        "flag =True\n",
        "print(\"PIKU: My name is Piku. Let's have a conversation! Also, if you want to exit any time, just type Bye!\")\n",
        "while(flag==True):\n",
        "  user_response = input()\n",
        "  user_response = user_response.lower()\n",
        "  if(user_response!='bye'):\n",
        "    if(user_response=='thanks' or user_response=='thank you'):\n",
        "      flag==False\n",
        "      print(\"PIKU: You are welcome..\")\n",
        "    else:\n",
        "      if(greet(user_response)!= None):\n",
        "        print(\"PIKU: \"+greet(user_response))\n",
        "      else:\n",
        "          sent_tokens.append(user_response)\n",
        "          word_tokens= word_tokens+nltk.word_tokenize(user_response)\n",
        "          final_words=list(set(word_tokens))\n",
        "          print(\"PIKU: \",end=\"\")\n",
        "          print(response(user_response))\n",
        "          sent_tokens.remove(user_response)\n",
        "  else:\n",
        "    flag=False\n",
        "    print(\"PIKU: Goodbye! Take care <3 \")"
      ],
      "metadata": {
        "colab": {
          "base_uri": "https://localhost:8080/"
        },
        "id": "f0653EvGyeq1",
        "outputId": "feb14966-69e0-46e0-ec1d-39bc44dbdc3f"
      },
      "execution_count": 35,
      "outputs": [
        {
          "output_type": "stream",
          "name": "stdout",
          "text": [
            "PIKU: My name is Piku. Let's have a conversation! Also, if you want to exit any time, just type Bye!\n",
            "hello piku\n",
            "PIKU: I am glad!\n",
            "data science\n",
            "PIKU: \"about data science\".\n",
            "content\n",
            "PIKU: I am sorry! I don't understand you\n",
            "impact\n",
            "PIKU: \"how data science will impact future of businesses?\"\n",
            "how data science will impact future of business\n",
            "PIKU: \"how data science will impact future of businesses?\"\n",
            "modern usage\n",
            "PIKU: [21]\n",
            "\n",
            "etymology\n",
            "early usage\n",
            "in 1962, john tukey described a field he called \"data analysis\", which resembles modern data science.\n",
            "references\n",
            "PIKU: see also\n",
            "open data science conference\n",
            "scientific data\n",
            "women in data\n",
            "python (programming language)\n",
            "r (programming language)\n",
            "data engineering\n",
            "big data\n",
            "machine learning\n",
            "references\n",
            " donoho, david (2017).\n",
            "what is data science\n",
            "PIKU: \"about data science\".\n",
            "foundations\n",
            "PIKU: both fields require a solid foundation in statistics, programming, and data visualization, as well as the ability to communicate findings effectively to both technical and non-technical audiences.\n",
            "early usage\n",
            "PIKU: [21]\n",
            "\n",
            "etymology\n",
            "early usage\n",
            "in 1962, john tukey described a field he called \"data analysis\", which resembles modern data science.\n",
            "thank you\n",
            "PIKU: You are welcome..\n",
            "bye\n",
            "PIKU: Goodbye! Take care <3 \n"
          ]
        }
      ]
    }
  ]
}